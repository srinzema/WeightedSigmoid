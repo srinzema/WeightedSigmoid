{
 "cells": [
  {
   "cell_type": "code",
   "execution_count": 1,
   "id": "1ac307db",
   "metadata": {},
   "outputs": [
    {
     "name": "stdout",
     "output_type": "stream",
     "text": [
      "arr shape: (8681, 31125)\n"
     ]
    }
   ],
   "source": [
    "import h5py\n",
    "import numpy as np\n",
    "\n",
    "f = h5py.File(\"chr1_pbmc_nbr_0_impute.hdf5\", 'r')\n",
    "coords = f[\"coordinates\"]\n",
    "xs, ys = coords[:,0].astype(int), coords[:,1].astype(int)\n",
    "\n",
    "matrix_size = max(xs.max(), ys.max()) + 1\n",
    "\n",
    "cell_keys = [k for k in f.keys() if k != \"coordinates\"]\n",
    "n_vectors = len(cell_keys)\n",
    "\n",
    "# Precompute indices for upper triangle including diagonal\n",
    "triu_idx = np.triu_indices(matrix_size, k=0)\n",
    "n_elements = len(triu_idx[0])\n",
    "\n",
    "# Initialize array for flattened upper triangles\n",
    "arr = np.zeros((n_vectors, n_elements))\n",
    "\n",
    "# Fill each cell\n",
    "for i, key in enumerate(cell_keys):\n",
    "    data = f[key][:]  # values corresponding to coords\n",
    "    # Construct full matrix\n",
    "    mat = np.zeros((matrix_size, matrix_size))\n",
    "    mat[xs, ys] = data\n",
    "    mat[ys, xs] = data  # make symmetric\n",
    "    arr[i] = mat[triu_idx]  # flatten upper triangle\n",
    "\n",
    "print(\"arr shape:\", arr.shape)  # (n_vectors, n_elements)\n"
   ]
  },
  {
   "cell_type": "code",
   "execution_count": null,
   "id": "363619a6",
   "metadata": {},
   "outputs": [],
   "source": [
    "import WeightedSigmoid as ws\n",
    "\n",
    "weight_matrix = ws.construct_weights(matrix_size, start_weight=1.0, step_size=0.5)\n",
    "cosine_correlation = ws.weighted_cosine(arr, weight_matrix)\n",
    "pearson_correlation = ws.pearson_correlation(arr, weight_matrix)"
   ]
  },
  {
   "cell_type": "code",
   "execution_count": null,
   "id": "00141606",
   "metadata": {},
   "outputs": [],
   "source": [
    "print(cosine_correlation)"
   ]
  },
  {
   "cell_type": "code",
   "execution_count": null,
   "id": "893dacc2",
   "metadata": {},
   "outputs": [],
   "source": [
    "print(pearson_correlation)"
   ]
  }
 ],
 "metadata": {
  "kernelspec": {
   "display_name": "WeightedSigmoid",
   "language": "python",
   "name": "python3"
  },
  "language_info": {
   "codemirror_mode": {
    "name": "ipython",
    "version": 3
   },
   "file_extension": ".py",
   "mimetype": "text/x-python",
   "name": "python",
   "nbconvert_exporter": "python",
   "pygments_lexer": "ipython3",
   "version": "3.13.7"
  }
 },
 "nbformat": 4,
 "nbformat_minor": 5
}
